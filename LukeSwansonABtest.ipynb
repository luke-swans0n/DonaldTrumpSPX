{
 "cells": [
  {
   "cell_type": "raw",
   "metadata": {},
   "source": [
    "# The Volatile Mr. Trump."
   ]
  },
  {
   "cell_type": "raw",
   "metadata": {},
   "source": [
    "In the following notebook, we will use Kruskal-Wallis' test to examine the relationship between Donald Trump's tweets and volatility in SPX (an ETF that follows the S&P500 index). "
   ]
  },
  {
   "cell_type": "markdown",
   "metadata": {},
   "source": [
    "## Data-wrangling"
   ]
  },
  {
   "cell_type": "code",
   "execution_count": 1,
   "metadata": {
    "colab": {
     "base_uri": "https://localhost:8080/",
     "height": 438
    },
    "executionInfo": {
     "elapsed": 1460,
     "status": "error",
     "timestamp": 1610698075798,
     "user": {
      "displayName": "Luke Swanson",
      "photoUrl": "https://lh3.googleusercontent.com/a-/AOh14GivHKC4cFs_spU0FuvayWBqLxHOxv41Ente5Thu1Q=s64",
      "userId": "01820289013845746238"
     },
     "user_tz": 360
    },
    "id": "Fb-XZZ0YFetE",
    "outputId": "13215562-8dbd-46ff-e086-7fab3e268026"
   },
   "outputs": [],
   "source": [
    "# Set up environment\n",
    "\n",
    "import math\n",
    "import pandas as pd\n",
    "import numpy as np\n",
    "from scipy import stats\n",
    "import matplotlib.pyplot as plt\n",
    "\n",
    "# Read in our data\n",
    "\n",
    "tweets_df = pd.read_csv(\"https://raw.githubusercontent.com/luke-swans0n/DonaldTrumpSPX/main/Data/tweets_01-08-2021.csv\")\n",
    "spx_df = pd.read_csv(\"https://raw.githubusercontent.com/luke-swans0n/DonaldTrumpSPX/main/Data/HistoricalPricesSPX.csv\")\n",
    "#format the date columns so they match-up.\n",
    "spx_df['Date'] = pd.to_datetime(spx_df.Date)\n",
    "spx_df.columns = [x.lower() for x in list(spx_df.columns)]\n",
    "tweets_df['date'] = pd.to_datetime(tweets_df.date)\n",
    "tweets_df['date'] = tweets_df['date'].dt.strftime('%m/%d/%Y')\n",
    "tweets_df['date'] = pd.to_datetime(tweets_df.date)"
   ]
  },
  {
   "cell_type": "markdown",
   "metadata": {},
   "source": [
    "Our data comes from two sources. A complete repository of Donald Trump's tweets are available online at [The Trump Archive](https://www.thetrumparchive.com/) for the sake of this experiment, we are interested only in the tweets posted after election day 2016. The [historical data for SPX](https://www.wsj.com/market-data/quotes/index/SPX/historical-prices) is courtesy of *The Wall Street Journal*. We are considering only days from election day 2016 up to the day after Twitter banned the President."
   ]
  },
  {
   "cell_type": "code",
   "execution_count": 2,
   "metadata": {
    "executionInfo": {
     "elapsed": 1433,
     "status": "aborted",
     "timestamp": 1610698075781,
     "user": {
      "displayName": "Luke Swanson",
      "photoUrl": "https://lh3.googleusercontent.com/a-/AOh14GivHKC4cFs_spU0FuvayWBqLxHOxv41Ente5Thu1Q=s64",
      "userId": "01820289013845746238"
     },
     "user_tz": 360
    },
    "id": "2VUWrcy6FetL"
   },
   "outputs": [
    {
     "data": {
      "text/html": [
       "<div>\n",
       "<style scoped>\n",
       "    .dataframe tbody tr th:only-of-type {\n",
       "        vertical-align: middle;\n",
       "    }\n",
       "\n",
       "    .dataframe tbody tr th {\n",
       "        vertical-align: top;\n",
       "    }\n",
       "\n",
       "    .dataframe thead th {\n",
       "        text-align: right;\n",
       "    }\n",
       "</style>\n",
       "<table border=\"1\" class=\"dataframe\">\n",
       "  <thead>\n",
       "    <tr style=\"text-align: right;\">\n",
       "      <th></th>\n",
       "      <th>id</th>\n",
       "      <th>text</th>\n",
       "      <th>isRetweet</th>\n",
       "      <th>isDeleted</th>\n",
       "      <th>device</th>\n",
       "      <th>favorites</th>\n",
       "      <th>retweets</th>\n",
       "      <th>date</th>\n",
       "      <th>isFlagged</th>\n",
       "    </tr>\n",
       "  </thead>\n",
       "  <tbody>\n",
       "    <tr>\n",
       "      <th>0</th>\n",
       "      <td>98454970654916608</td>\n",
       "      <td>Republicans and Democrats have both created ou...</td>\n",
       "      <td>f</td>\n",
       "      <td>f</td>\n",
       "      <td>TweetDeck</td>\n",
       "      <td>49</td>\n",
       "      <td>255</td>\n",
       "      <td>2011-08-02</td>\n",
       "      <td>f</td>\n",
       "    </tr>\n",
       "    <tr>\n",
       "      <th>1</th>\n",
       "      <td>1234653427789070336</td>\n",
       "      <td>I was thrilled to be back in the Great city of...</td>\n",
       "      <td>f</td>\n",
       "      <td>f</td>\n",
       "      <td>Twitter for iPhone</td>\n",
       "      <td>73748</td>\n",
       "      <td>17404</td>\n",
       "      <td>2020-03-03</td>\n",
       "      <td>f</td>\n",
       "    </tr>\n",
       "    <tr>\n",
       "      <th>2</th>\n",
       "      <td>1218010753434820614</td>\n",
       "      <td>RT @CBS_Herridge: READ: Letter to surveillance...</td>\n",
       "      <td>t</td>\n",
       "      <td>f</td>\n",
       "      <td>Twitter for iPhone</td>\n",
       "      <td>0</td>\n",
       "      <td>7396</td>\n",
       "      <td>2020-01-17</td>\n",
       "      <td>f</td>\n",
       "    </tr>\n",
       "    <tr>\n",
       "      <th>3</th>\n",
       "      <td>1304875170860015617</td>\n",
       "      <td>The Unsolicited Mail In Ballot Scam is a major...</td>\n",
       "      <td>f</td>\n",
       "      <td>f</td>\n",
       "      <td>Twitter for iPhone</td>\n",
       "      <td>80527</td>\n",
       "      <td>23502</td>\n",
       "      <td>2020-09-12</td>\n",
       "      <td>f</td>\n",
       "    </tr>\n",
       "    <tr>\n",
       "      <th>4</th>\n",
       "      <td>1218159531554897920</td>\n",
       "      <td>RT @MZHemingway: Very friendly telling of even...</td>\n",
       "      <td>t</td>\n",
       "      <td>f</td>\n",
       "      <td>Twitter for iPhone</td>\n",
       "      <td>0</td>\n",
       "      <td>9081</td>\n",
       "      <td>2020-01-17</td>\n",
       "      <td>f</td>\n",
       "    </tr>\n",
       "  </tbody>\n",
       "</table>\n",
       "</div>"
      ],
      "text/plain": [
       "                    id                                               text  \\\n",
       "0    98454970654916608  Republicans and Democrats have both created ou...   \n",
       "1  1234653427789070336  I was thrilled to be back in the Great city of...   \n",
       "2  1218010753434820614  RT @CBS_Herridge: READ: Letter to surveillance...   \n",
       "3  1304875170860015617  The Unsolicited Mail In Ballot Scam is a major...   \n",
       "4  1218159531554897920  RT @MZHemingway: Very friendly telling of even...   \n",
       "\n",
       "  isRetweet isDeleted              device  favorites  retweets       date  \\\n",
       "0         f         f           TweetDeck         49       255 2011-08-02   \n",
       "1         f         f  Twitter for iPhone      73748     17404 2020-03-03   \n",
       "2         t         f  Twitter for iPhone          0      7396 2020-01-17   \n",
       "3         f         f  Twitter for iPhone      80527     23502 2020-09-12   \n",
       "4         t         f  Twitter for iPhone          0      9081 2020-01-17   \n",
       "\n",
       "  isFlagged  \n",
       "0         f  \n",
       "1         f  \n",
       "2         f  \n",
       "3         f  \n",
       "4         f  "
      ]
     },
     "execution_count": 2,
     "metadata": {},
     "output_type": "execute_result"
    }
   ],
   "source": [
    "#quick look at the tweet data.\n",
    "tweets_df.head()"
   ]
  },
  {
   "cell_type": "code",
   "execution_count": 3,
   "metadata": {
    "executionInfo": {
     "elapsed": 1428,
     "status": "aborted",
     "timestamp": 1610698075784,
     "user": {
      "displayName": "Luke Swanson",
      "photoUrl": "https://lh3.googleusercontent.com/a-/AOh14GivHKC4cFs_spU0FuvayWBqLxHOxv41Ente5Thu1Q=s64",
      "userId": "01820289013845746238"
     },
     "user_tz": 360
    },
    "id": "qM2aZy7NFetN"
   },
   "outputs": [
    {
     "data": {
      "text/html": [
       "<div>\n",
       "<style scoped>\n",
       "    .dataframe tbody tr th:only-of-type {\n",
       "        vertical-align: middle;\n",
       "    }\n",
       "\n",
       "    .dataframe tbody tr th {\n",
       "        vertical-align: top;\n",
       "    }\n",
       "\n",
       "    .dataframe thead th {\n",
       "        text-align: right;\n",
       "    }\n",
       "</style>\n",
       "<table border=\"1\" class=\"dataframe\">\n",
       "  <thead>\n",
       "    <tr style=\"text-align: right;\">\n",
       "      <th></th>\n",
       "      <th>date</th>\n",
       "      <th>open</th>\n",
       "      <th>high</th>\n",
       "      <th>low</th>\n",
       "      <th>close</th>\n",
       "    </tr>\n",
       "  </thead>\n",
       "  <tbody>\n",
       "    <tr>\n",
       "      <th>0</th>\n",
       "      <td>2021-01-12</td>\n",
       "      <td>3801.62</td>\n",
       "      <td>3810.78</td>\n",
       "      <td>3776.51</td>\n",
       "      <td>3801.19</td>\n",
       "    </tr>\n",
       "    <tr>\n",
       "      <th>1</th>\n",
       "      <td>2021-01-11</td>\n",
       "      <td>3803.14</td>\n",
       "      <td>3817.86</td>\n",
       "      <td>3789.02</td>\n",
       "      <td>3799.61</td>\n",
       "    </tr>\n",
       "    <tr>\n",
       "      <th>2</th>\n",
       "      <td>2021-01-08</td>\n",
       "      <td>3815.05</td>\n",
       "      <td>3826.69</td>\n",
       "      <td>3783.60</td>\n",
       "      <td>3824.68</td>\n",
       "    </tr>\n",
       "    <tr>\n",
       "      <th>3</th>\n",
       "      <td>2021-01-07</td>\n",
       "      <td>3764.71</td>\n",
       "      <td>3811.55</td>\n",
       "      <td>3764.71</td>\n",
       "      <td>3803.79</td>\n",
       "    </tr>\n",
       "    <tr>\n",
       "      <th>4</th>\n",
       "      <td>2021-01-06</td>\n",
       "      <td>3712.20</td>\n",
       "      <td>3783.04</td>\n",
       "      <td>3705.34</td>\n",
       "      <td>3748.14</td>\n",
       "    </tr>\n",
       "  </tbody>\n",
       "</table>\n",
       "</div>"
      ],
      "text/plain": [
       "        date     open     high      low    close\n",
       "0 2021-01-12  3801.62  3810.78  3776.51  3801.19\n",
       "1 2021-01-11  3803.14  3817.86  3789.02  3799.61\n",
       "2 2021-01-08  3815.05  3826.69  3783.60  3824.68\n",
       "3 2021-01-07  3764.71  3811.55  3764.71  3803.79\n",
       "4 2021-01-06  3712.20  3783.04  3705.34  3748.14"
      ]
     },
     "execution_count": 3,
     "metadata": {},
     "output_type": "execute_result"
    }
   ],
   "source": [
    "#quick look at SPX data\n",
    "spx_df.head()"
   ]
  },
  {
   "cell_type": "code",
   "execution_count": 4,
   "metadata": {
    "executionInfo": {
     "elapsed": 1426,
     "status": "aborted",
     "timestamp": 1610698075785,
     "user": {
      "displayName": "Luke Swanson",
      "photoUrl": "https://lh3.googleusercontent.com/a-/AOh14GivHKC4cFs_spU0FuvayWBqLxHOxv41Ente5Thu1Q=s64",
      "userId": "01820289013845746238"
     },
     "user_tz": 360
    },
    "id": "ZS1U9lElFetN"
   },
   "outputs": [],
   "source": [
    "tweets_no_retweet = tweets_df[tweets_df.isRetweet == 'f']"
   ]
  },
  {
   "cell_type": "markdown",
   "metadata": {},
   "source": [
    "Retweets are not being considered because they are generally (except when he retweets himself) written by other people, and we are more interested in how the President's words move markets. "
   ]
  },
  {
   "cell_type": "code",
   "execution_count": 5,
   "metadata": {
    "executionInfo": {
     "elapsed": 1425,
     "status": "aborted",
     "timestamp": 1610698075787,
     "user": {
      "displayName": "Luke Swanson",
      "photoUrl": "https://lh3.googleusercontent.com/a-/AOh14GivHKC4cFs_spU0FuvayWBqLxHOxv41Ente5Thu1Q=s64",
      "userId": "01820289013845746238"
     },
     "user_tz": 360
    },
    "id": "xQdD6S2VFetN"
   },
   "outputs": [],
   "source": [
    "tweets_no_retweet_no_link = tweets_no_retweet[~tweets_no_retweet.text.str.contains('http')]"
   ]
  },
  {
   "cell_type": "markdown",
   "metadata": {},
   "source": [
    "For the same reason we are not considering retweets, we are also ignoring tweets that contain a link to another website. So, after excluding retweets and links to somewhere else, we are left with only what can be assumed to be Donald Trump's original thoughts he wants the American people to hear."
   ]
  },
  {
   "cell_type": "code",
   "execution_count": 6,
   "metadata": {
    "executionInfo": {
     "elapsed": 1424,
     "status": "aborted",
     "timestamp": 1610698075788,
     "user": {
      "displayName": "Luke Swanson",
      "photoUrl": "https://lh3.googleusercontent.com/a-/AOh14GivHKC4cFs_spU0FuvayWBqLxHOxv41Ente5Thu1Q=s64",
      "userId": "01820289013845746238"
     },
     "user_tz": 360
    },
    "id": "8B03zp-JFetN"
   },
   "outputs": [],
   "source": [
    "#define volatiltiy column\n",
    "spx_df['diff'] = spx_df[' high'] - spx_df[' low']"
   ]
  },
  {
   "cell_type": "markdown",
   "metadata": {},
   "source": [
    "Here, we're defining our variable of interest. There are a variety of different ways to evaluate volatility: from the CBOE's Vix volatility index to solving for Implied Volatility in the Black-Scholes model. The Vix is not normally distributed. THere is also a notable difference in realized volatility (the actual volatility in the underlying of an option) and the implied volatility. IV also changes continuously during the trading day and into the evening while high-low is set after market close. By definition, increased volatility in the market implies that prices are changing by larger magnitudes and thus widening the spread of SPX's daily high-low. "
   ]
  },
  {
   "cell_type": "code",
   "execution_count": 7,
   "metadata": {
    "executionInfo": {
     "elapsed": 1420,
     "status": "aborted",
     "timestamp": 1610698075789,
     "user": {
      "displayName": "Luke Swanson",
      "photoUrl": "https://lh3.googleusercontent.com/a-/AOh14GivHKC4cFs_spU0FuvayWBqLxHOxv41Ente5Thu1Q=s64",
      "userId": "01820289013845746238"
     },
     "user_tz": 360
    },
    "id": "VV0zUy4zFetO",
    "scrolled": false
   },
   "outputs": [
    {
     "data": {
      "text/html": [
       "<div>\n",
       "<style scoped>\n",
       "    .dataframe tbody tr th:only-of-type {\n",
       "        vertical-align: middle;\n",
       "    }\n",
       "\n",
       "    .dataframe tbody tr th {\n",
       "        vertical-align: top;\n",
       "    }\n",
       "\n",
       "    .dataframe thead th {\n",
       "        text-align: right;\n",
       "    }\n",
       "</style>\n",
       "<table border=\"1\" class=\"dataframe\">\n",
       "  <thead>\n",
       "    <tr style=\"text-align: right;\">\n",
       "      <th></th>\n",
       "      <th>date</th>\n",
       "      <th>open</th>\n",
       "      <th>high</th>\n",
       "      <th>low</th>\n",
       "      <th>close</th>\n",
       "      <th>diff</th>\n",
       "      <th>id</th>\n",
       "      <th>text</th>\n",
       "      <th>isRetweet</th>\n",
       "      <th>isDeleted</th>\n",
       "      <th>device</th>\n",
       "      <th>favorites</th>\n",
       "      <th>retweets</th>\n",
       "      <th>isFlagged</th>\n",
       "    </tr>\n",
       "  </thead>\n",
       "  <tbody>\n",
       "    <tr>\n",
       "      <th>0</th>\n",
       "      <td>2021-01-12</td>\n",
       "      <td>3801.62</td>\n",
       "      <td>3810.78</td>\n",
       "      <td>3776.51</td>\n",
       "      <td>3801.19</td>\n",
       "      <td>34.27</td>\n",
       "      <td>NaN</td>\n",
       "      <td>NaN</td>\n",
       "      <td>NaN</td>\n",
       "      <td>NaN</td>\n",
       "      <td>NaN</td>\n",
       "      <td>NaN</td>\n",
       "      <td>NaN</td>\n",
       "      <td>NaN</td>\n",
       "    </tr>\n",
       "    <tr>\n",
       "      <th>1</th>\n",
       "      <td>2021-01-11</td>\n",
       "      <td>3803.14</td>\n",
       "      <td>3817.86</td>\n",
       "      <td>3789.02</td>\n",
       "      <td>3799.61</td>\n",
       "      <td>28.84</td>\n",
       "      <td>NaN</td>\n",
       "      <td>NaN</td>\n",
       "      <td>NaN</td>\n",
       "      <td>NaN</td>\n",
       "      <td>NaN</td>\n",
       "      <td>NaN</td>\n",
       "      <td>NaN</td>\n",
       "      <td>NaN</td>\n",
       "    </tr>\n",
       "    <tr>\n",
       "      <th>2</th>\n",
       "      <td>2021-01-08</td>\n",
       "      <td>3815.05</td>\n",
       "      <td>3826.69</td>\n",
       "      <td>3783.60</td>\n",
       "      <td>3824.68</td>\n",
       "      <td>43.09</td>\n",
       "      <td>1.347555e+18</td>\n",
       "      <td>The 75,000,000 great American Patriots who vot...</td>\n",
       "      <td>f</td>\n",
       "      <td>f</td>\n",
       "      <td>Twitter for iPhone</td>\n",
       "      <td>480997.0</td>\n",
       "      <td>108844.0</td>\n",
       "      <td>f</td>\n",
       "    </tr>\n",
       "    <tr>\n",
       "      <th>3</th>\n",
       "      <td>2021-01-08</td>\n",
       "      <td>3815.05</td>\n",
       "      <td>3826.69</td>\n",
       "      <td>3783.60</td>\n",
       "      <td>3824.68</td>\n",
       "      <td>43.09</td>\n",
       "      <td>1.347570e+18</td>\n",
       "      <td>To all of those who have asked, I will not be ...</td>\n",
       "      <td>f</td>\n",
       "      <td>f</td>\n",
       "      <td>Twitter for iPhone</td>\n",
       "      <td>510761.0</td>\n",
       "      <td>83532.0</td>\n",
       "      <td>f</td>\n",
       "    </tr>\n",
       "    <tr>\n",
       "      <th>4</th>\n",
       "      <td>2021-01-07</td>\n",
       "      <td>3764.71</td>\n",
       "      <td>3811.55</td>\n",
       "      <td>3764.71</td>\n",
       "      <td>3803.79</td>\n",
       "      <td>46.84</td>\n",
       "      <td>NaN</td>\n",
       "      <td>NaN</td>\n",
       "      <td>NaN</td>\n",
       "      <td>NaN</td>\n",
       "      <td>NaN</td>\n",
       "      <td>NaN</td>\n",
       "      <td>NaN</td>\n",
       "      <td>NaN</td>\n",
       "    </tr>\n",
       "  </tbody>\n",
       "</table>\n",
       "</div>"
      ],
      "text/plain": [
       "        date     open     high      low    close   diff            id  \\\n",
       "0 2021-01-12  3801.62  3810.78  3776.51  3801.19  34.27           NaN   \n",
       "1 2021-01-11  3803.14  3817.86  3789.02  3799.61  28.84           NaN   \n",
       "2 2021-01-08  3815.05  3826.69  3783.60  3824.68  43.09  1.347555e+18   \n",
       "3 2021-01-08  3815.05  3826.69  3783.60  3824.68  43.09  1.347570e+18   \n",
       "4 2021-01-07  3764.71  3811.55  3764.71  3803.79  46.84           NaN   \n",
       "\n",
       "                                                text isRetweet isDeleted  \\\n",
       "0                                                NaN       NaN       NaN   \n",
       "1                                                NaN       NaN       NaN   \n",
       "2  The 75,000,000 great American Patriots who vot...         f         f   \n",
       "3  To all of those who have asked, I will not be ...         f         f   \n",
       "4                                                NaN       NaN       NaN   \n",
       "\n",
       "               device  favorites  retweets isFlagged  \n",
       "0                 NaN        NaN       NaN       NaN  \n",
       "1                 NaN        NaN       NaN       NaN  \n",
       "2  Twitter for iPhone   480997.0  108844.0         f  \n",
       "3  Twitter for iPhone   510761.0   83532.0         f  \n",
       "4                 NaN        NaN       NaN       NaN  "
      ]
     },
     "execution_count": 7,
     "metadata": {},
     "output_type": "execute_result"
    }
   ],
   "source": [
    "#combine data frames.\n",
    "market_tweets = spx_df.merge(tweets_no_retweet_no_link, how='left', on='date' )\n",
    "market_tweets.head()"
   ]
  },
  {
   "cell_type": "markdown",
   "metadata": {},
   "source": [
    "A left-join is used here becuase we are interested in *all* the days that the market was open. Not just days the President tweeted."
   ]
  },
  {
   "cell_type": "code",
   "execution_count": 8,
   "metadata": {
    "executionInfo": {
     "elapsed": 1417,
     "status": "aborted",
     "timestamp": 1610698075790,
     "user": {
      "displayName": "Luke Swanson",
      "photoUrl": "https://lh3.googleusercontent.com/a-/AOh14GivHKC4cFs_spU0FuvayWBqLxHOxv41Ente5Thu1Q=s64",
      "userId": "01820289013845746238"
     },
     "user_tz": 360
    },
    "id": "4ob8bwZDFetO"
   },
   "outputs": [],
   "source": [
    "#fill na for easier processing\n",
    "market_tweets['id'] = market_tweets['id'].fillna(0)"
   ]
  },
  {
   "cell_type": "code",
   "execution_count": 9,
   "metadata": {
    "executionInfo": {
     "elapsed": 1413,
     "status": "aborted",
     "timestamp": 1610698075791,
     "user": {
      "displayName": "Luke Swanson",
      "photoUrl": "https://lh3.googleusercontent.com/a-/AOh14GivHKC4cFs_spU0FuvayWBqLxHOxv41Ente5Thu1Q=s64",
      "userId": "01820289013845746238"
     },
     "user_tz": 360
    },
    "id": "O0itEzNlFetO"
   },
   "outputs": [
    {
     "name": "stdout",
     "output_type": "stream",
     "text": [
      "<class 'pandas.core.frame.DataFrame'>\n",
      "Int64Index: 58 entries, 0 to 7694\n",
      "Data columns (total 14 columns):\n",
      " #   Column     Non-Null Count  Dtype         \n",
      "---  ------     --------------  -----         \n",
      " 0   date       58 non-null     datetime64[ns]\n",
      " 1    open      58 non-null     float64       \n",
      " 2    high      58 non-null     float64       \n",
      " 3    low       58 non-null     float64       \n",
      " 4    close     58 non-null     float64       \n",
      " 5   diff       58 non-null     float64       \n",
      " 6   id         58 non-null     float64       \n",
      " 7   text       0 non-null      object        \n",
      " 8   isRetweet  0 non-null      object        \n",
      " 9   isDeleted  0 non-null      object        \n",
      " 10  device     0 non-null      object        \n",
      " 11  favorites  0 non-null      float64       \n",
      " 12  retweets   0 non-null      float64       \n",
      " 13  isFlagged  0 non-null      object        \n",
      "dtypes: datetime64[ns](1), float64(8), object(5)\n",
      "memory usage: 6.8+ KB\n"
     ]
    },
    {
     "data": {
      "text/plain": [
       "array([   0,    1,    4,   31, 1069, 1814, 2492, 2615, 3697, 4519, 4601,\n",
       "       4790, 5212, 5251, 6012, 6319, 6387, 6388, 6389, 6447, 6513, 6531,\n",
       "       6577, 6870, 6893, 6900, 6995, 7042, 7043, 7063, 7086, 7179, 7212,\n",
       "       7213, 7217, 7222, 7226, 7244, 7271, 7324, 7325, 7326, 7327, 7356,\n",
       "       7372, 7375, 7401, 7407, 7430, 7543, 7587, 7621, 7635, 7644, 7667,\n",
       "       7677, 7689, 7694], dtype=int64)"
      ]
     },
     "execution_count": 9,
     "metadata": {},
     "output_type": "execute_result"
    }
   ],
   "source": [
    "#grab all days for which there's no tweet\n",
    "market_no_tweets = market_tweets[market_tweets['id'] == 0]\n",
    "market_no_tweets.info()\n",
    "#grab all indices of those days.\n",
    "no_tweets_indices = market_no_tweets.index.values\n",
    "no_tweets_indices"
   ]
  },
  {
   "cell_type": "code",
   "execution_count": 10,
   "metadata": {
    "executionInfo": {
     "elapsed": 1411,
     "status": "aborted",
     "timestamp": 1610698075791,
     "user": {
      "displayName": "Luke Swanson",
      "photoUrl": "https://lh3.googleusercontent.com/a-/AOh14GivHKC4cFs_spU0FuvayWBqLxHOxv41Ente5Thu1Q=s64",
      "userId": "01820289013845746238"
     },
     "user_tz": 360
    },
    "id": "6Qw7OsgqFetP"
   },
   "outputs": [],
   "source": [
    "# date - 1 => the day before\n",
    "no_tweets_before_df = market_tweets.iloc[[x-1 for x in no_tweets_indices if x > 0]]"
   ]
  },
  {
   "cell_type": "code",
   "execution_count": 11,
   "metadata": {
    "executionInfo": {
     "elapsed": 1410,
     "status": "aborted",
     "timestamp": 1610698075792,
     "user": {
      "displayName": "Luke Swanson",
      "photoUrl": "https://lh3.googleusercontent.com/a-/AOh14GivHKC4cFs_spU0FuvayWBqLxHOxv41Ente5Thu1Q=s64",
      "userId": "01820289013845746238"
     },
     "user_tz": 360
    },
    "id": "iDMgK1BXFetP"
   },
   "outputs": [],
   "source": [
    "#date + 1 => the day after\n",
    "no_tweets_after_df = market_tweets.iloc[[x+1 for x in no_tweets_indices if x < 7964]]"
   ]
  },
  {
   "cell_type": "markdown",
   "metadata": {},
   "source": [
    "*Note:* the condition at the end of each list comprehension is to avoid the closure of indices. In other words, without the condition index 0 - 1 yields the last index (7694), *which implies that time is circular and we are trapped helplessly between 11-08-2016 and 01-12-2021*. For the collective good we will opt to live in a linear-time reality. "
   ]
  },
  {
   "cell_type": "code",
   "execution_count": 12,
   "metadata": {
    "executionInfo": {
     "elapsed": 1410,
     "status": "aborted",
     "timestamp": 1610698075793,
     "user": {
      "displayName": "Luke Swanson",
      "photoUrl": "https://lh3.googleusercontent.com/a-/AOh14GivHKC4cFs_spU0FuvayWBqLxHOxv41Ente5Thu1Q=s64",
      "userId": "01820289013845746238"
     },
     "user_tz": 360
    },
    "id": "lYZUvcsaFetP"
   },
   "outputs": [
    {
     "data": {
      "text/html": [
       "<div>\n",
       "<style scoped>\n",
       "    .dataframe tbody tr th:only-of-type {\n",
       "        vertical-align: middle;\n",
       "    }\n",
       "\n",
       "    .dataframe tbody tr th {\n",
       "        vertical-align: top;\n",
       "    }\n",
       "\n",
       "    .dataframe thead th {\n",
       "        text-align: right;\n",
       "    }\n",
       "</style>\n",
       "<table border=\"1\" class=\"dataframe\">\n",
       "  <thead>\n",
       "    <tr style=\"text-align: right;\">\n",
       "      <th></th>\n",
       "      <th>date</th>\n",
       "      <th>high</th>\n",
       "      <th>low</th>\n",
       "      <th>diff</th>\n",
       "      <th>text</th>\n",
       "    </tr>\n",
       "  </thead>\n",
       "  <tbody>\n",
       "    <tr>\n",
       "      <th>0</th>\n",
       "      <td>2021-01-12</td>\n",
       "      <td>3810.78</td>\n",
       "      <td>3776.51</td>\n",
       "      <td>34.27</td>\n",
       "      <td>NaN</td>\n",
       "    </tr>\n",
       "    <tr>\n",
       "      <th>3</th>\n",
       "      <td>2021-01-08</td>\n",
       "      <td>3826.69</td>\n",
       "      <td>3783.60</td>\n",
       "      <td>43.09</td>\n",
       "      <td>To all of those who have asked, I will not be ...</td>\n",
       "    </tr>\n",
       "    <tr>\n",
       "      <th>30</th>\n",
       "      <td>2021-01-04</td>\n",
       "      <td>3769.99</td>\n",
       "      <td>3662.71</td>\n",
       "      <td>107.28</td>\n",
       "      <td>Heading to Georgia now. See you soon!</td>\n",
       "    </tr>\n",
       "    <tr>\n",
       "      <th>1068</th>\n",
       "      <td>2020-07-21</td>\n",
       "      <td>3277.29</td>\n",
       "      <td>3247.77</td>\n",
       "      <td>29.52</td>\n",
       "      <td>Mail-In Voting, unless changed by the courts, ...</td>\n",
       "    </tr>\n",
       "    <tr>\n",
       "      <th>1813</th>\n",
       "      <td>2020-03-23</td>\n",
       "      <td>2300.73</td>\n",
       "      <td>2191.86</td>\n",
       "      <td>108.87</td>\n",
       "      <td>It is very important that we totally protect o...</td>\n",
       "    </tr>\n",
       "    <tr>\n",
       "      <th>...</th>\n",
       "      <td>...</td>\n",
       "      <td>...</td>\n",
       "      <td>...</td>\n",
       "      <td>...</td>\n",
       "      <td>...</td>\n",
       "    </tr>\n",
       "    <tr>\n",
       "      <th>7644</th>\n",
       "      <td>2016-12-02</td>\n",
       "      <td>2197.95</td>\n",
       "      <td>2188.37</td>\n",
       "      <td>9.58</td>\n",
       "      <td>NaN</td>\n",
       "    </tr>\n",
       "    <tr>\n",
       "      <th>7667</th>\n",
       "      <td>2016-11-25</td>\n",
       "      <td>2213.35</td>\n",
       "      <td>2206.27</td>\n",
       "      <td>7.08</td>\n",
       "      <td>NaN</td>\n",
       "    </tr>\n",
       "    <tr>\n",
       "      <th>7677</th>\n",
       "      <td>2016-11-21</td>\n",
       "      <td>2198.70</td>\n",
       "      <td>2186.43</td>\n",
       "      <td>12.27</td>\n",
       "      <td>NaN</td>\n",
       "    </tr>\n",
       "    <tr>\n",
       "      <th>7689</th>\n",
       "      <td>2016-11-14</td>\n",
       "      <td>2171.36</td>\n",
       "      <td>2156.08</td>\n",
       "      <td>15.28</td>\n",
       "      <td>NaN</td>\n",
       "    </tr>\n",
       "    <tr>\n",
       "      <th>7694</th>\n",
       "      <td>2016-11-10</td>\n",
       "      <td>2182.30</td>\n",
       "      <td>2151.17</td>\n",
       "      <td>31.13</td>\n",
       "      <td>NaN</td>\n",
       "    </tr>\n",
       "  </tbody>\n",
       "</table>\n",
       "<p>157 rows × 5 columns</p>\n",
       "</div>"
      ],
      "text/plain": [
       "           date     high      low    diff  \\\n",
       "0    2021-01-12  3810.78  3776.51   34.27   \n",
       "3    2021-01-08  3826.69  3783.60   43.09   \n",
       "30   2021-01-04  3769.99  3662.71  107.28   \n",
       "1068 2020-07-21  3277.29  3247.77   29.52   \n",
       "1813 2020-03-23  2300.73  2191.86  108.87   \n",
       "...         ...      ...      ...     ...   \n",
       "7644 2016-12-02  2197.95  2188.37    9.58   \n",
       "7667 2016-11-25  2213.35  2206.27    7.08   \n",
       "7677 2016-11-21  2198.70  2186.43   12.27   \n",
       "7689 2016-11-14  2171.36  2156.08   15.28   \n",
       "7694 2016-11-10  2182.30  2151.17   31.13   \n",
       "\n",
       "                                                   text  \n",
       "0                                                   NaN  \n",
       "3     To all of those who have asked, I will not be ...  \n",
       "30                Heading to Georgia now. See you soon!  \n",
       "1068  Mail-In Voting, unless changed by the courts, ...  \n",
       "1813  It is very important that we totally protect o...  \n",
       "...                                                 ...  \n",
       "7644                                                NaN  \n",
       "7667                                                NaN  \n",
       "7677                                                NaN  \n",
       "7689                                                NaN  \n",
       "7694                                                NaN  \n",
       "\n",
       "[157 rows x 5 columns]"
      ]
     },
     "execution_count": 12,
     "metadata": {},
     "output_type": "execute_result"
    }
   ],
   "source": [
    "#bring the before, after, and tweetless together. Grab only the columns that are interesting. Sort & drop duplicates.\n",
    "no_tweets_final_df = pd.concat([no_tweets_before_df, no_tweets_after_df, market_no_tweets])\n",
    "no_tweets_final_df = no_tweets_final_df.iloc[:, [0,2,3,5,7]]\n",
    "no_tweets_final_df.drop_duplicates()"
   ]
  },
  {
   "cell_type": "markdown",
   "metadata": {},
   "source": [
    "Finally, we have arrived at our needed data frames. no_tweets_final_df and tweets_final_df. Now, to check for normality. "
   ]
  },
  {
   "cell_type": "markdown",
   "metadata": {},
   "source": [
    "# Normality Tests"
   ]
  },
  {
   "cell_type": "code",
   "execution_count": 13,
   "metadata": {
    "executionInfo": {
     "elapsed": 1405,
     "status": "aborted",
     "timestamp": 1610698075794,
     "user": {
      "displayName": "Luke Swanson",
      "photoUrl": "https://lh3.googleusercontent.com/a-/AOh14GivHKC4cFs_spU0FuvayWBqLxHOxv41Ente5Thu1Q=s64",
      "userId": "01820289013845746238"
     },
     "user_tz": 360
    },
    "id": "1VjnJCHZFetP"
   },
   "outputs": [
    {
     "name": "stdout",
     "output_type": "stream",
     "text": [
      "DescribeResult(nobs=173, minmax=(4.480000000000018, 157.45000000000027), mean=21.643526011560713, variance=558.3854764484466, skewness=3.4587806621654704, kurtosis=13.402929201370554)\n",
      "(0.5782391428947449, 2.314457816271907e-20)\n"
     ]
    },
    {
     "data": {
      "image/png": "[encoded data removed]",
      "text/plain": [
       "<Figure size 432x288 with 1 Axes>"
      ]
     },
     "metadata": {
      "needs_background": "light"
     },
     "output_type": "display_data"
    }
   ],
   "source": [
    "#make a histogram, examine differences. Then examine distance of differences from the mean\n",
    "plt.hist(no_tweets_final_df['diff'].mean() - no_tweets_final_df['diff'], bins = 153)\n",
    "plt.title('Volatility distance from mean')\n",
    "plt.xlabel('mean(diff) - diff')\n",
    "plt.ylabel('frequency')\n",
    "print(stats.describe(no_tweets_final_df['diff']))\n",
    "print(stats.shapiro(no_tweets_final_df['diff']))"
   ]
  },
  {
   "cell_type": "markdown",
   "metadata": {},
   "source": [
    "It is immediately clear that this the differences are not normally distributed. Visually, there are clear outliers, and the peak is far too tall to be normal. Descriptive statistics confirm this with a ***skewness of 3.46*** and a ***kurtosis of 13.4***. Shapiro gives a p-value of 2x10^-20. "
   ]
  },
  {
   "cell_type": "code",
   "execution_count": 14,
   "metadata": {
    "executionInfo": {
     "elapsed": 1403,
     "status": "aborted",
     "timestamp": 1610698075795,
     "user": {
      "displayName": "Luke Swanson",
      "photoUrl": "https://lh3.googleusercontent.com/a-/AOh14GivHKC4cFs_spU0FuvayWBqLxHOxv41Ente5Thu1Q=s64",
      "userId": "01820289013845746238"
     },
     "user_tz": 360
    },
    "id": "Nf9WtAvxFetQ"
   },
   "outputs": [],
   "source": [
    "tweets_final_df = pd.merge(market_tweets, no_tweets_final_df, how='outer', indicator=True).query('_merge == \"left_only\"').drop(columns=['_merge'])\n",
    "tweets_final_df = tweets_final_df.iloc[:, [0,2,3,5,7]]\n",
    "tweets_final_df = tweets_final_df.groupby('date').mean()"
   ]
  },
  {
   "cell_type": "code",
   "execution_count": 15,
   "metadata": {},
   "outputs": [
    {
     "name": "stdout",
     "output_type": "stream",
     "text": [
      "DescribeResult(nobs=979, minmax=(3.7899999999999636, 218.96000000000004), mean=30.430561797752812, variance=730.592811238253, skewness=2.5559454182609325, kurtosis=8.916038338371008)\n",
      "(0.5782391428947449, 2.314457816271907e-20)\n"
     ]
    },
    {
     "data": {
      "image/png": "[encoded data removed]",
      "text/plain": [
       "<Figure size 432x288 with 1 Axes>"
      ]
     },
     "metadata": {
      "needs_background": "light"
     },
     "output_type": "display_data"
    }
   ],
   "source": [
    "plt.hist(tweets_final_df['diff'].mean() - tweets_final_df['diff'], bins = 700)\n",
    "plt.title('Volatility distance from mean')\n",
    "plt.xlabel('mean(diff) - diff')\n",
    "plt.ylabel('frequency')\n",
    "print(stats.describe(tweets_final_df['diff']))\n",
    "print(stats.shapiro(no_tweets_final_df['diff']))"
   ]
  },
  {
   "cell_type": "markdown",
   "metadata": {},
   "source": [
    "# Results"
   ]
  },
  {
   "cell_type": "code",
   "execution_count": 16,
   "metadata": {
    "executionInfo": {
     "elapsed": 1401,
     "status": "aborted",
     "timestamp": 1610698075796,
     "user": {
      "displayName": "Luke Swanson",
      "photoUrl": "https://lh3.googleusercontent.com/a-/AOh14GivHKC4cFs_spU0FuvayWBqLxHOxv41Ente5Thu1Q=s64",
      "userId": "01820289013845746238"
     },
     "user_tz": 360
    },
    "id": "wPh5naLRFetQ"
   },
   "outputs": [
    {
     "data": {
      "text/plain": [
       "KruskalResult(statistic=34.333262540600956, pvalue=4.643768562686048e-09)"
      ]
     },
     "execution_count": 16,
     "metadata": {},
     "output_type": "execute_result"
    }
   ],
   "source": [
    "stats.kruskal(tweets_final_df['diff'].sample(n= 173), no_tweets_final_df['diff'])"
   ]
  },
  {
   "cell_type": "markdown",
   "metadata": {},
   "source": [
    "Kruskal's test gives us a ***statistic of 30.18*** and a ***p-value of 3.94x10^-8***. We reject the null-hypothesis that the mean volatiltities are equal."
   ]
  },
  {
   "cell_type": "markdown",
   "metadata": {},
   "source": [
    "# Implications"
   ]
  },
  {
   "cell_type": "markdown",
   "metadata": {},
   "source": [
    "Donald Trump's tweets had a statistically significant effect on market volatility. The \"real-world\" implications of this are numerous. Here's a list of some of the more obvious ones:  \n",
    ">1. Government officials can move markets with their own personal Twitter accounts. \n",
    ">2. There is a means of profiting off of this movement. \n",
    ">3. There is a possible means of market manipulation, assuming one could get the market-moving official to collude.\n",
    ">4. The country may need to have an honest discussion on restricting the social media accounts of high-ranking government officials.\n",
    ">5. The Efficient Markets Hypothesis may need to be revised. "
   ]
  },
  {
   "cell_type": "markdown",
   "metadata": {},
   "source": [
    "# Further Considerations"
   ]
  },
  {
   "cell_type": "markdown",
   "metadata": {},
   "source": [
    "Things beyond our scope, but hope to examine:\n",
    ">1. Did the content of tweets matter? Were tweets in which Donald Trump called Nancy Pelosi a Marxist as market-moving as the ones about unemployment and stimulus checks?\n",
    ">2. Has this set a new precedent? Will future Presidents also have the same power? \n",
    ">3. Did Barack Obama's tweets under the official White House twitter have any effect?\n",
    ">4. Did the official White House twitter during Trump have an effect?\n",
    ">5. What trading strategy would optimally profit from this phenomenae? \n",
    ">6. To what extent could one profit?\n",
    ">7. Did time of day of the tweets matter?\n",
    ">8. What about inter-day volatilty instead of intra-day? \n",
    ">9. What about foreign markets? Did Mr. Trump move the Nikkei? FTSE 100?\n",
    ">10. Was the global pandemic partly responsible? Is there a difference in volatility pre-COVID? Is there a difference in the President's effect pre-COVID?"
   ]
  },
  {
   "cell_type": "markdown",
   "metadata": {},
   "source": [
    "# Potential Shortcomings"
   ]
  },
  {
   "cell_type": "markdown",
   "metadata": {},
   "source": [
    "This study is rudimentary and incomplete. There are many points from which bias could skew results. Pitfalls: \n",
    ">1. n = 173. The actual total days Trump did not tweet was only 58. \n",
    ">2. Other non-parametric tests could've been utilized. The distributions for diff look log-normal.\n",
    ">3. Kruskal-Wallis does not readily provide an effect-size. "
   ]
  },
  {
   "cell_type": "code",
   "execution_count": 17,
   "metadata": {},
   "outputs": [
    {
     "data": {
      "text/plain": [
       "KruskalResult(statistic=0.01636272718962057, pvalue=0.8982147555716294)"
      ]
     },
     "execution_count": 17,
     "metadata": {},
     "output_type": "execute_result"
    }
   ],
   "source": [
    "stats.kruskal(tweets_final_df['diff'].sample(n= 173), tweets_final_df['diff'].sample(n= 173))"
   ]
  },
  {
   "cell_type": "code",
   "execution_count": 18,
   "metadata": {},
   "outputs": [
    {
     "data": {
      "text/plain": [
       "KruskalResult(statistic=0.0, pvalue=1.0)"
      ]
     },
     "execution_count": 18,
     "metadata": {},
     "output_type": "execute_result"
    }
   ],
   "source": [
    "stats.kruskal(no_tweets_final_df['diff'], no_tweets_final_df['diff'])"
   ]
  },
  {
   "cell_type": "markdown",
   "metadata": {},
   "source": [
    "A/A test comes back as not statistically significant."
   ]
  }
 ],
 "metadata": {
  "colab": {
   "name": "ABTestData.ipynb",
   "provenance": []
  },
  "kernelspec": {
   "display_name": "Python 3",
   "language": "python",
   "name": "python3"
  },
  "language_info": {
   "codemirror_mode": {
    "name": "ipython",
    "version": 3
   },
   "file_extension": ".py",
   "mimetype": "text/x-python",
   "name": "python",
   "nbconvert_exporter": "python",
   "pygments_lexer": "ipython3",
   "version": "3.7.6"
  }
 },
 "nbformat": 4,
 "nbformat_minor": 1
}
